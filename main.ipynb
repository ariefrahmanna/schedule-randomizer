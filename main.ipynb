{
 "cells": [
  {
   "cell_type": "markdown",
   "id": "34c117cc",
   "metadata": {},
   "source": [
    "# Jadwal Praktikum Generator"
   ]
  },
  {
   "cell_type": "markdown",
   "id": "b9dc5cc4",
   "metadata": {},
   "source": [
    "## Import libraries"
   ]
  },
  {
   "cell_type": "code",
   "execution_count": null,
   "id": "f5eba377",
   "metadata": {},
   "outputs": [],
   "source": [
    "import itertools\n",
    "import json\n",
    "import random"
   ]
  },
  {
   "cell_type": "markdown",
   "id": "a82ecc63",
   "metadata": {},
   "source": [
    "## Create General Constants "
   ]
  },
  {
   "cell_type": "code",
   "execution_count": null,
   "id": "da237dfb",
   "metadata": {},
   "outputs": [],
   "source": [
    "DAYS = ['Senin', 'Selasa', 'Rabu', 'Kamis', 'Jumat', 'Sabtu']\n",
    "SESSIONS = [1, 2, 3, 4]\n",
    "ROOMS = ['0604', '0605', '0617', '0618', '0704', '0705', '0712', '0713']\n",
    "\n",
    "ADDITIONAL_UNAVAILABLE_GENERAL_SCHEDULES = [\n",
    "    ('Jumat', 2, '0604'),\n",
    "    ('Jumat', 2, '0605'),\n",
    "    ('Jumat', 2, '0617'),\n",
    "    ('Jumat', 2, '0618'),\n",
    "    ('Jumat', 2, '0704'),\n",
    "    ('Jumat', 2, '0705'),\n",
    "    ('Jumat', 2, '0712'),\n",
    "    ('Jumat', 2, '0713'),\n",
    "\n",
    "    ('Jumat', 4, '0604'),\n",
    "    ('Jumat', 4, '0605'),\n",
    "    ('Jumat', 4, '0617'),\n",
    "    ('Jumat', 4, '0618'),\n",
    "    ('Jumat', 4, '0704'),\n",
    "    ('Jumat', 4, '0705'),\n",
    "    ('Jumat', 4, '0712'),\n",
    "    ('Jumat', 4, '0713'),\n",
    "\n",
    "    ('Sabtu', 4, '0604'),\n",
    "    ('Sabtu', 4, '0605'),\n",
    "    ('Sabtu', 4, '0617'),\n",
    "    ('Sabtu', 4, '0618'),\n",
    "    ('Sabtu', 4, '0704'),\n",
    "    ('Sabtu', 4, '0705'),\n",
    "    ('Sabtu', 4, '0712'),\n",
    "    ('Sabtu', 4, '0713'),\n",
    "]\n",
    "\n",
    "ADDITIONAL_AVAILABLE_GENERAL_SCHEDULES = [ ]\n",
    "\n",
    "AVAILABLE_GENERAL_SCHEDULES = [\n",
    "    schedule for schedule in itertools.product(DAYS, SESSIONS, ROOMS)\n",
    "    if schedule not in ADDITIONAL_UNAVAILABLE_GENERAL_SCHEDULES\n",
    "] + ADDITIONAL_AVAILABLE_GENERAL_SCHEDULES"
   ]
  },
  {
   "cell_type": "markdown",
   "id": "94ebe543",
   "metadata": {},
   "source": [
    "## Load Input Data"
   ]
  },
  {
   "cell_type": "code",
   "execution_count": null,
   "id": "6e224c64",
   "metadata": {},
   "outputs": [],
   "source": [
    "with open('input.json', 'r') as file:\n",
    "    classes = json.load(file)"
   ]
  },
  {
   "cell_type": "markdown",
   "id": "4ec59b31",
   "metadata": {},
   "source": [
    "## Populate Avaliable Schedules for All Classes"
   ]
  },
  {
   "cell_type": "code",
   "execution_count": null,
   "id": "28f13a79",
   "metadata": {},
   "outputs": [],
   "source": [
    "for i, cls in enumerate(classes):\n",
    "    class_unavailable_schedules = [(s['day'], s['session'], s['room'])\n",
    "                                  for s in cls.get('unavailable_schedules')]\n",
    "\n",
    "    class_available_schedules = [s for s in AVAILABLE_GENERAL_SCHEDULES\n",
    "                                 if s not in class_unavailable_schedules]\n",
    "\n",
    "    classes[i].setdefault('available_schedules', class_available_schedules)\n",
    "\n",
    "    del classes[i]['unavailable_schedules']"
   ]
  },
  {
   "cell_type": "markdown",
   "id": "a5e7545e",
   "metadata": {},
   "source": [
    "## Assign Schedules using DFS"
   ]
  },
  {
   "cell_type": "code",
   "execution_count": null,
   "id": "168e8084",
   "metadata": {},
   "outputs": [],
   "source": [
    "shuffled_classes = random.sample(classes, len(classes))\n",
    "lecturer_schedule = set()\n",
    "schedules_out = {str(schedule): None for schedule in AVAILABLE_GENERAL_SCHEDULES}\n",
    "\n",
    "\n",
    "def backtrack(class_idx):\n",
    "    if class_idx == len(shuffled_classes):\n",
    "        return True\n",
    "\n",
    "    current_class = shuffled_classes[class_idx]\n",
    "\n",
    "    for schedule in current_class['available_schedules']:\n",
    "        day, session, _ = schedule\n",
    "        schedule_key = str(schedule)\n",
    "        lecturer_schedules = (current_class['lecturer_code'], day, session)\n",
    "\n",
    "        if schedules_out.get(schedule_key) is None and lecturer_schedules not in lecturer_schedule:\n",
    "            schedules_out[schedule_key] = {\n",
    "                'name': current_class['name'],\n",
    "                'subject': current_class['subject'],\n",
    "                'lecturer_code': current_class['lecturer_code'],\n",
    "            }\n",
    "            lecturer_schedule.add(lecturer_schedules)\n",
    "\n",
    "            if backtrack(class_idx + 1):\n",
    "                return True\n",
    "\n",
    "            schedules_out[schedule_key] = None\n",
    "            lecturer_schedule.remove(lecturer_schedules)\n",
    "\n",
    "    return False\n",
    "\n",
    "\n",
    "if backtrack(0):\n",
    "    with open(\"output.json\", \"w\") as file:\n",
    "        json.dump(schedules_out, file, indent=4)"
   ]
  }
 ],
 "metadata": {
  "kernelspec": {
   "display_name": ".venv",
   "language": "python",
   "name": "python3"
  },
  "language_info": {
   "codemirror_mode": {
    "name": "ipython",
    "version": 3
   },
   "file_extension": ".py",
   "mimetype": "text/x-python",
   "name": "python",
   "nbconvert_exporter": "python",
   "pygments_lexer": "ipython3",
   "version": "3.13.3"
  }
 },
 "nbformat": 4,
 "nbformat_minor": 5
}
